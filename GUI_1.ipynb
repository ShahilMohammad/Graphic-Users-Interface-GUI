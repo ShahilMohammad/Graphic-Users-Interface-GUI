{
 "cells": [
  {
   "cell_type": "code",
   "execution_count": 1,
   "id": "82363c07",
   "metadata": {},
   "outputs": [],
   "source": [
    "import tkinter as tkinter"
   ]
  },
  {
   "cell_type": "code",
   "execution_count": 7,
   "id": "a210ddc7",
   "metadata": {},
   "outputs": [],
   "source": [
    "a=tk.Tk()"
   ]
  },
  {
   "cell_type": "code",
   "execution_count": 8,
   "id": "0c0c38cb",
   "metadata": {},
   "outputs": [],
   "source": [
    "a.mainloop()"
   ]
  },
  {
   "cell_type": "markdown",
   "id": "6ef92757",
   "metadata": {},
   "source": [
    "**Title of a window**"
   ]
  },
  {
   "cell_type": "code",
   "execution_count": 10,
   "id": "10cefbaf",
   "metadata": {},
   "outputs": [],
   "source": [
    "a=tk.Tk()\n",
    "a.title('First GUI')\n",
    "a.mainloop()"
   ]
  },
  {
   "cell_type": "markdown",
   "id": "9d32d2b4",
   "metadata": {},
   "source": [
    "**Geometry**"
   ]
  },
  {
   "cell_type": "code",
   "execution_count": 14,
   "id": "629afaa4",
   "metadata": {},
   "outputs": [],
   "source": [
    "a=tk.Tk()\n",
    "a.title('First GUI')\n",
    "a.geometry('800x200')\n",
    "a.mainloop()"
   ]
  },
  {
   "cell_type": "markdown",
   "id": "5e4a5b24",
   "metadata": {},
   "source": [
    "**Label**"
   ]
  },
  {
   "cell_type": "code",
   "execution_count": 20,
   "id": "264ef41f",
   "metadata": {},
   "outputs": [],
   "source": [
    "root=tk.Tk()\n",
    "root.title('Form')\n",
    "root.geometry('400x400')\n",
    "l1=tk.Label(root,text='Name')\n",
    "l1.pack(side='bottom')\n",
    "root.mainloop()"
   ]
  },
  {
   "cell_type": "code",
   "execution_count": 23,
   "id": "98d4c0fb",
   "metadata": {},
   "outputs": [],
   "source": [
    "root=tk.Tk()\n",
    "root.title('Form')\n",
    "root.geometry('400x400')\n",
    "l1=tk.Label(root,text='Name')\n",
    "l1.place(anchor='n')\n",
    "root.mainloop()"
   ]
  },
  {
   "cell_type": "code",
   "execution_count": 24,
   "id": "5f384bf0",
   "metadata": {},
   "outputs": [],
   "source": [
    "root=tk.Tk()\n",
    "root.title('Form')\n",
    "root.geometry('400x400')\n",
    "l1=tk.Label(root,text='Name')\n",
    "l1.grid(row=0,column=0)\n",
    "root.mainloop()"
   ]
  },
  {
   "cell_type": "code",
   "execution_count": 27,
   "id": "03ee7e97",
   "metadata": {},
   "outputs": [],
   "source": [
    "root=tk.Tk()\n",
    "root.title('Form')\n",
    "root.geometry('400x400')\n",
    "l1=tk.Label(root,text='Name')\n",
    "l1.grid(row=0,column=0)\n",
    "l2=tk.Label(root,text='Age')\n",
    "l2.grid(row=2,column=0)\n",
    "root.mainloop()"
   ]
  },
  {
   "cell_type": "markdown",
   "id": "1d2b0ced",
   "metadata": {},
   "source": [
    "**Entry**"
   ]
  },
  {
   "cell_type": "code",
   "execution_count": 30,
   "id": "35f96d16",
   "metadata": {},
   "outputs": [],
   "source": [
    "root=tk.Tk()\n",
    "root.title('Form')\n",
    "root.geometry('400x400')\n",
    "l1=tk.Label(root,text='Name')\n",
    "l1.grid(row=0,column=0)\n",
    "l2=tk.Label(root,text='Age')\n",
    "l2.grid(row=1,column=0)\n",
    "e1=tk.Entry(root)\n",
    "e1.grid(row=0,column=1)\n",
    "e2=tk.Entry(root)\n",
    "e2.grid(row=1,column=1)\n",
    "root.mainloop()"
   ]
  },
  {
   "cell_type": "markdown",
   "id": "ed598e40",
   "metadata": {},
   "source": [
    "**Button**"
   ]
  },
  {
   "cell_type": "code",
   "execution_count": 35,
   "id": "33288009",
   "metadata": {},
   "outputs": [],
   "source": [
    "root=tk.Tk()\n",
    "root.title('Form')\n",
    "root.geometry('400x400')\n",
    "l1=tk.Label(root,text='Name')\n",
    "l1.grid(row=0,column=0)\n",
    "l2=tk.Label(root,text='Age')\n",
    "l2.grid(row=1,column=0)\n",
    "e1=tk.Entry(root)\n",
    "e1.grid(row=0,column=1)\n",
    "e2=tk.Entry(root)\n",
    "e2.grid(row=1,column=1)\n",
    "b1=tk.Button(root,text='Save')\n",
    "b1.grid(row=2,column=1)\n",
    "b2=tk.Button(root,text='Exit',command=root.destroy)\n",
    "b2.grid(row=2,column=2)\n",
    "root.mainloop()"
   ]
  },
  {
   "cell_type": "code",
   "execution_count": 37,
   "id": "a058c3ac",
   "metadata": {},
   "outputs": [
    {
     "name": "stdout",
     "output_type": "stream",
     "text": [
      "6\n",
      "60\n",
      "165\n"
     ]
    }
   ],
   "source": [
    "root=tk.Tk()\n",
    "root.title('Area Calculation')\n",
    "root.geometry('400x400')\n",
    "l1=tk.Label(root,text='Length')\n",
    "l1.grid(row=0,column=0)\n",
    "l2=tk.Label(root,text='Breadth')\n",
    "l2.grid(row=1,column=0)\n",
    "e1=tk.Entry(root)\n",
    "e2=tk.Entry(root)\n",
    "def area():\n",
    "    n1=int(e1.get())\n",
    "    n2=int(e2.get())\n",
    "    mul=n1*n2\n",
    "    print(mul)\n",
    "e1.grid(row=0,column=1)\n",
    "e2.grid(row=1,column=1)\n",
    "b1=tk.Button(root,text='Calc.',command=area)\n",
    "b2=tk.Button(root,text='Exit',command=root.destroy)\n",
    "b1.grid(row=2,column=0)\n",
    "b2.grid(row=2,column=1)\n",
    "root.mainloop()"
   ]
  },
  {
   "cell_type": "code",
   "execution_count": 38,
   "id": "4fc26ccf",
   "metadata": {},
   "outputs": [
    {
     "name": "stdout",
     "output_type": "stream",
     "text": [
      "multiplication of 3 and 10 is 30\n",
      "Addition of 3 and 10 is 13\n"
     ]
    }
   ],
   "source": [
    "root=tk.Tk()\n",
    "root.title('Area Calculation')\n",
    "root.geometry('400x400')\n",
    "l1=tk.Label(root,text='Num1: ')\n",
    "l1.grid(row=0,column=0)\n",
    "l2=tk.Label(root,text='Num2: ')\n",
    "l2.grid(row=1,column=0)\n",
    "e1=tk.Entry(root)\n",
    "e2=tk.Entry(root)\n",
    "def multiplication():\n",
    "    n1=int(e1.get())\n",
    "    n2=int(e2.get())\n",
    "    mul=n1*n2\n",
    "    print(f'multiplication of {n1} and {n2} is {n1*n2}')\n",
    "def add():\n",
    "    n1=int(e1.get())\n",
    "    n2=int(e2.get())\n",
    "    print(f'Addition of {n1} and {n2} is {n1+n2}')\n",
    "e1.grid(row=0,column=1)\n",
    "e2.grid(row=1,column=1)\n",
    "b1=tk.Button(root,text='Multiplication',command=multiplication)\n",
    "b2=tk.Button(root,text='Addition',command=add)\n",
    "b3=tk.Button(root,text='Exit',command=root.destroy)\n",
    "b1.grid(row=2,column=0)\n",
    "b2.grid(row=2,column=1)\n",
    "b3.grid(row=3,column=1)\n",
    "root.mainloop()"
   ]
  },
  {
   "cell_type": "code",
   "execution_count": null,
   "id": "bb3f4d5c",
   "metadata": {},
   "outputs": [],
   "source": []
  }
 ],
 "metadata": {
  "kernelspec": {
   "display_name": "Python 3 (ipykernel)",
   "language": "python",
   "name": "python3"
  },
  "language_info": {
   "codemirror_mode": {
    "name": "ipython",
    "version": 3
   },
   "file_extension": ".py",
   "mimetype": "text/x-python",
   "name": "python",
   "nbconvert_exporter": "python",
   "pygments_lexer": "ipython3",
   "version": "3.11.5"
  }
 },
 "nbformat": 4,
 "nbformat_minor": 5
}
